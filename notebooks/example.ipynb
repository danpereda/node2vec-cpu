{
 "cells": [
  {
   "cell_type": "code",
   "execution_count": 1,
   "metadata": {},
   "outputs": [],
   "source": [
    "import pickle\n",
    "import walker\n",
    "import polars as pl\n",
    "from gensim.models import Word2Vec"
   ]
  },
  {
   "cell_type": "markdown",
   "metadata": {},
   "source": [
    "# Load CoOcurrence Data from Amazon KDD 2023\n",
    "\n",
    "[Download data](https://www.aicrowd.com/challenges/amazon-kdd-cup-23-multilingual-recommendation-challenge/problems/task-1-next-product-recommendation/dataset_files)\n",
    "\n",
    "Steps: \n",
    "\n",
    "- Build a list of list of sessions, for simplicity I'll filter by 'ES'\n",
    "\n",
    "```python\n",
    "\n",
    "def str2list(x):\n",
    "    x = x.replace('[', '').replace(']', '').replace(\"'\", '').replace('\\n', ' ').replace('\\r', ' ')\n",
    "    return [i for i in x.split() if i]\n",
    "\n",
    "df = (\n",
    "    pl.scan_csv(\"sessions_train.csv\")\n",
    "      .filter(pl.col(\"locale\") == \"ES\")\n",
    "      .select(\"prev_items\")\n",
    "      .collect()\n",
    "      .to_series()\n",
    ")\n",
    "\n",
    "sessions = df.apply(str2list).to_list()\n",
    "```\n",
    "\n",
    "\n",
    "- from a list of list of sessions you can get the co-ocurrence graph pretty easily like so:\n",
    "\n",
    "```python\n",
    "import pickle\n",
    "from itertools import chain\n",
    "\n",
    "import networkx as nx\n",
    "from networkx.algorithms import bipartite\n",
    "\n",
    "G = nx.Graph()\n",
    "G.add_nodes_from(range(len(sessions)), bipartite=0)\n",
    "G.add_nodes_from(chain(*sessions), bipartite=1)\n",
    "\n",
    "edges = [(i, tgt) for i, s in enumerate(sessions) for tgt in s]\n",
    "G.add_edges_from(edges)\n",
    "\n",
    "# Build the co-ocurrence graph\n",
    "P = bipartite.projected_graph(G, chain(*sessions))\n",
    "\n",
    "with open(\"co_ocurrence_graph.pickle\", 'wb') as handle:\n",
    "    pickle.dump(P, handle, protocol=pickle.HIGHEST_PROTOCOL)\n",
    "```"
   ]
  },
  {
   "cell_type": "code",
   "execution_count": 2,
   "metadata": {},
   "outputs": [
    {
     "name": "stdout",
     "output_type": "stream",
     "text": [
      "G.number_of_nodes()=38850\n",
      "G.number_of_edges()=234347\n"
     ]
    }
   ],
   "source": [
    "with open(\"co_ocurrence_graph.pickle\", \"rb\") as f:\n",
    "    G = pickle.load(f)\n",
    "\n",
    "print(f'{G.number_of_nodes()=}')\n",
    "print(f'{G.number_of_edges()=}')"
   ]
  },
  {
   "cell_type": "code",
   "execution_count": 3,
   "metadata": {},
   "outputs": [
    {
     "name": "stdout",
     "output_type": "stream",
     "text": [
      "Random walks - T=1.09s\n",
      "CPU times: user 2.85 s, sys: 133 ms, total: 2.98 s\n",
      "Wall time: 1.68 s\n"
     ]
    }
   ],
   "source": [
    "%%time\n",
    "walks = walker.random_walks(G, n_walks = 10, walk_len = 10, p=0.5, q=1.0).tolist()"
   ]
  },
  {
   "cell_type": "code",
   "execution_count": 6,
   "metadata": {},
   "outputs": [
    {
     "name": "stdout",
     "output_type": "stream",
     "text": [
      "CPU times: user 4min 20s, sys: 589 ms, total: 4min 20s\n",
      "Wall time: 1min 7s\n"
     ]
    }
   ],
   "source": [
    "%%time\n",
    "# train a Word2Vec model\n",
    "model = Word2Vec(walks, vector_size=128, window=4, min_count=1, sg=1, workers=4, epochs=10, compute_loss=True)"
   ]
  },
  {
   "cell_type": "code",
   "execution_count": 27,
   "metadata": {},
   "outputs": [],
   "source": [
    "i2node = dict(enumerate(G.nodes()))\n",
    "node2i = {v: k for k, v in i2node.items()}"
   ]
  },
  {
   "cell_type": "code",
   "execution_count": null,
   "metadata": {},
   "outputs": [],
   "source": [
    "# Load product train data just for metada and quality assessment of the embeddings\n",
    "dicts = pl.read_csv(\"products_train_es.csv\").to_dicts()\n",
    "node2meta = {data['id']: data for data in dicts}"
   ]
  },
  {
   "cell_type": "code",
   "execution_count": 36,
   "metadata": {},
   "outputs": [
    {
     "name": "stdout",
     "output_type": "stream",
     "text": [
      "(Apple iPhone 14 (256 GB) - Azul, Apple iPhone 14 (128 GB) - (Product) Red), similarity=0.893774688243866\n",
      "(Apple iPhone 14 (256 GB) - Azul, Nuevo Apple iPhone 12 Mini (64 GB) - Azul), similarity=0.8876607418060303\n",
      "(Apple iPhone 14 (256 GB) - Azul, Nuevo Apple iPhone 12 Mini (128 GB) - en Negro), similarity=0.8843467235565186\n",
      "(Apple iPhone 14 (256 GB) - Azul, Nuevo Apple iPhone 12 Mini (128 GB) - Azul), similarity=0.8785219192504883\n",
      "(Apple iPhone 14 (256 GB) - Azul, Nuevo Apple iPhone 12 Mini (128 GB) - en Blanco), similarity=0.870318591594696\n",
      "(Apple iPhone 14 (256 GB) - Azul, Nuevo Apple iPhone 12 Mini (128 GB) - de en Verde), similarity=0.8670912384986877\n",
      "(Apple iPhone 14 (256 GB) - Azul, Apple iPhone 12 Mini (64 GB) - de en Malva), similarity=0.8460684418678284\n",
      "(Apple iPhone 14 (256 GB) - Azul, Apple iPhone 14 (256 GB) - (Product) Red), similarity=0.827444851398468\n",
      "(Apple iPhone 14 (256 GB) - Azul, Apple iPhone 13 Mini (128 GB) - en Blanco Estrella), similarity=0.8270866274833679\n",
      "(Apple iPhone 14 (256 GB) - Azul, Nuevo Apple iPhone 12 Pro (256 GB) - Grafito), similarity=0.8228973746299744\n",
      "(Apple iPhone 14 (256 GB) - Azul, Samsung Galaxy Z Flip4 Smartphone 5G, Sim Free Android Teléfono Plegable 256GB, Pantalla Dynamic AMOLED 2X 6.7/Super AMOLED 1.9\" 1.2 Graphite 2022 [Versión Español]), similarity=0.8202308416366577\n",
      "(Apple iPhone 14 (256 GB) - Azul, Apple iPhone 14 (128 GB) - Azul), similarity=0.8181143999099731\n",
      "(Apple iPhone 14 (256 GB) - Azul, Apple iPhone 12 Pro, 512GB, Azul Pacifico - (Reacondicionado)), similarity=0.8169013261795044\n",
      "(Apple iPhone 14 (256 GB) - Azul, Apple iPhone 12 Pro, 512GB, Grafito - (Reacondicionado)), similarity=0.8136277198791504\n",
      "(Apple iPhone 14 (256 GB) - Azul, Samsung Galaxy Z Flip4 5G (256 GB) Smartphone Android, Teléfono Móvil Plegable Bora Púrpura [Versión española]), similarity=0.8134151101112366\n",
      "(Apple iPhone 14 (256 GB) - Azul, Apple iPhone 13 (256 GB) - en Medianoche), similarity=0.8120609521865845\n",
      "(Apple iPhone 14 (256 GB) - Azul, Apple iPhone 13 (128 GB) - Azul), similarity=0.8099935054779053\n",
      "(Apple iPhone 14 (256 GB) - Azul, Apple iPhone 13 (512 GB) - (Product) Red), similarity=0.80690997838974\n",
      "(Apple iPhone 14 (256 GB) - Azul, Apple iPhone 13 (512 GB) - de en verde), similarity=0.8037155270576477\n",
      "(Apple iPhone 14 (256 GB) - Azul, Apple iPhone 14 Plus (256 GB) - Malva), similarity=0.8024992346763611\n",
      "(Apple iPhone 14 (256 GB) - Azul, Apple iPhone 14 Plus (256 GB) - Blanco Estrella), similarity=0.8011581897735596\n",
      "(Apple iPhone 14 (256 GB) - Azul, Apple iPhone 12 Pro, 256GB, Plata - (Reacondicionado)), similarity=0.800329327583313\n",
      "(Apple iPhone 14 (256 GB) - Azul, Apple iPhone 12 Pro, 128GB, Azul Pacifico - (Reacondicionado)), similarity=0.8001664280891418\n",
      "(Apple iPhone 14 (256 GB) - Azul, Nuevo Apple iPhone 12 Pro (128 GB) - Grafito), similarity=0.7959344387054443\n",
      "(Apple iPhone 14 (256 GB) - Azul, Apple iPhone 12 Pro, 256GB, Azul Pacifico - (Reacondicionado)), similarity=0.7942777276039124\n",
      "(Apple iPhone 14 (256 GB) - Azul, Apple iPhone 14 Pro (512 GB) - Negro Espacial), similarity=0.793895959854126\n",
      "(Apple iPhone 14 (256 GB) - Azul, Apple iPhone 13 Mini (128 GB) - en Blanco Estrella con AppleCare+), similarity=0.7924453020095825\n",
      "(Apple iPhone 14 (256 GB) - Azul, Apple iPhone 13, 256GB, Rosa - (Reacondicionado)), similarity=0.7908101677894592\n",
      "(Apple iPhone 14 (256 GB) - Azul, Apple iPhone 13 Pro MAX (1 TB) - Grafito), similarity=0.7901154160499573\n",
      "(Apple iPhone 14 (256 GB) - Azul, Apple iPhone 14 Plus (256 GB) - Negro Noche), similarity=0.7896284461021423\n",
      "(Apple iPhone 14 (256 GB) - Azul, Apple iPhone 13 (512 GB) - Azul), similarity=0.7881932258605957\n",
      "(Apple iPhone 14 (256 GB) - Azul, Apple iPhone 14 Plus (256 GB) - Azul), similarity=0.7876807451248169\n",
      "(Apple iPhone 14 (256 GB) - Azul, Escobilla limpiaparabrisas Bosch Aerotwin A555S, Longitud: 600mm/400mm – 1 juego para el parabrisas (frontal)), similarity=0.7873029708862305\n",
      "(Apple iPhone 14 (256 GB) - Azul, Apple iPhone 13 Pro (512 GB) - Verde alpino), similarity=0.7871249914169312\n",
      "(Apple iPhone 14 (256 GB) - Azul, Samsung Galaxy Z Flip4 SM-F721B 17 cm (6.7\") SIM doble Android 12 5G USB Tipo C 8 GB 128 GB 3700 mAh Púrpura), similarity=0.7867323756217957\n",
      "(Apple iPhone 14 (256 GB) - Azul, Apple iPhone 14 (256 GB) - Blanco Estrella), similarity=0.7866160869598389\n",
      "(Apple iPhone 14 (256 GB) - Azul, Nuevo Apple iPhone 12 Mini (64 GB) - en Blanco), similarity=0.7827733159065247\n",
      "(Apple iPhone 14 (256 GB) - Azul, Apple iPhone 13 Pro (1 TB) - Grafito), similarity=0.7826552391052246\n",
      "(Apple iPhone 14 (256 GB) - Azul, Apple iPhone 13 Pro (256 GB) - Verde alpino), similarity=0.7825839519500732\n",
      "(Apple iPhone 14 (256 GB) - Azul, Apple iPhone 13 Pro MAX (256 GB) - en Azul Alpino), similarity=0.7816951274871826\n"
     ]
    }
   ],
   "source": [
    "product_id = \"B0BDKSHZK6\"\n",
    "src_title = node2meta[product_id]['title']\n",
    "for i, similarity in model.wv.most_similar(node2i[product_id], topn=40):\n",
    "    print(f'({src_title}, {node2meta[i2node[i]][\"title\"]}), {similarity=}')"
   ]
  },
  {
   "cell_type": "code",
   "execution_count": null,
   "metadata": {},
   "outputs": [],
   "source": []
  }
 ],
 "metadata": {
  "kernelspec": {
   "display_name": "Python 3 (ipykernel)",
   "language": "python",
   "name": "python3"
  },
  "language_info": {
   "codemirror_mode": {
    "name": "ipython",
    "version": 3
   },
   "file_extension": ".py",
   "mimetype": "text/x-python",
   "name": "python",
   "nbconvert_exporter": "python",
   "pygments_lexer": "ipython3",
   "version": "3.9.13"
  },
  "orig_nbformat": 4
 },
 "nbformat": 4,
 "nbformat_minor": 2
}
