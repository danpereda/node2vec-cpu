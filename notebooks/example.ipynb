{
 "cells": [
  {
   "cell_type": "code",
   "execution_count": 1,
   "metadata": {},
   "outputs": [],
   "source": [
    "import walker\n",
    "import networkx as nx\n",
    "from gensim.models import Word2Vec"
   ]
  },
  {
   "cell_type": "code",
   "execution_count": 2,
   "metadata": {},
   "outputs": [
    {
     "name": "stdout",
     "output_type": "stream",
     "text": [
      "G.number_of_nodes()=1000\n",
      "G.number_of_edges()=5035\n",
      "Random walks - T=0.04s\n"
     ]
    }
   ],
   "source": [
    "# create a random graph\n",
    "G = nx.random_partition_graph([1000], .01, .001)\n",
    "\n",
    "print(f'{G.number_of_nodes()=}')\n",
    "print(f'{G.number_of_edges()=}')\n",
    "\n",
    "# generate random walks according to Node2Vec methodology by specifying p and q\n",
    "X = walker.random_walks(G, n_walks=50, walk_len=25, p=.25, q=.25)"
   ]
  },
  {
   "cell_type": "code",
   "execution_count": 3,
   "metadata": {},
   "outputs": [],
   "source": [
    "sentences = X.tolist()"
   ]
  },
  {
   "cell_type": "code",
   "execution_count": 4,
   "metadata": {},
   "outputs": [],
   "source": [
    "# train a Word2Vec model\n",
    "model = Word2Vec(sentences, vector_size=128, window=10, min_count=1, sg=1, workers=4, epochs=1, compute_loss=True)"
   ]
  },
  {
   "cell_type": "code",
   "execution_count": 5,
   "metadata": {},
   "outputs": [
    {
     "data": {
      "text/plain": [
       "5969867.5"
      ]
     },
     "execution_count": 5,
     "metadata": {},
     "output_type": "execute_result"
    }
   ],
   "source": [
    "model.get_latest_training_loss()"
   ]
  },
  {
   "cell_type": "code",
   "execution_count": 6,
   "metadata": {},
   "outputs": [
    {
     "name": "stdout",
     "output_type": "stream",
     "text": [
      "-----\n",
      "gensim              4.3.2\n",
      "matplotlib          3.6.1\n",
      "networkx            2.6.3\n",
      "session_info        1.0.0\n",
      "walker              NA\n",
      "-----\n",
      "IPython             7.31.1\n",
      "jupyter_client      7.3.4\n",
      "jupyter_core        4.11.1\n",
      "jupyterlab          3.5.0\n",
      "notebook            6.5.1\n",
      "-----\n",
      "Python 3.9.13 | packaged by conda-forge | (main, May 27 2022, 16:56:21) [GCC 10.3.0]\n",
      "Linux-5.19.0-45-generic-x86_64-with-glibc2.31\n",
      "-----\n",
      "Session information updated at 2023-08-25 21:09\n"
     ]
    }
   ],
   "source": [
    "import session_info\n",
    "session_info.show(html=False, req_file_name=\"requirements.txt\", write_req_file=True)"
   ]
  }
 ],
 "metadata": {
  "kernelspec": {
   "display_name": "Python 3 (ipykernel)",
   "language": "python",
   "name": "python3"
  },
  "language_info": {
   "codemirror_mode": {
    "name": "ipython",
    "version": 3
   },
   "file_extension": ".py",
   "mimetype": "text/x-python",
   "name": "python",
   "nbconvert_exporter": "python",
   "pygments_lexer": "ipython3",
   "version": "3.9.13"
  },
  "orig_nbformat": 4
 },
 "nbformat": 4,
 "nbformat_minor": 2
}
